{
  "nbformat": 4,
  "nbformat_minor": 0,
  "metadata": {
    "colab": {
      "private_outputs": true,
      "provenance": []
    },
    "kernelspec": {
      "name": "python3",
      "display_name": "Python 3"
    },
    "language_info": {
      "name": "python"
    }
  },
  "cells": [
    {
      "cell_type": "code",
      "source": [
        "import matplotlib.pyplot as plt\n",
        "import seaborn as sns\n",
        "import pandas as pd\n",
        "from sklearn.model_selection import train_test_split\n",
        "from sklearn.ensemble import RandomForestRegressor\n",
        "from sklearn.metrics import mean_squared_error\n",
        "from sklearn.ensemble import RandomForestClassifier\n",
        "from sklearn.metrics import classification_report"
      ],
      "metadata": {
        "id": "tNRdCDNB_fk1"
      },
      "execution_count": null,
      "outputs": []
    },
    {
      "cell_type": "code",
      "execution_count": null,
      "metadata": {
        "id": "26w9cGtu-mxy"
      },
      "outputs": [],
      "source": [
        "data = pd.read_csv(\"/content/stocks.csv\")\n",
        "X = data[['Open', 'High', 'Low', 'Volume']]\n",
        "y = data['Close']\n",
        "X_train, X_test, y_train, y_test = train_test_split(X, y, test_size=0.2, random_state=42)\n",
        "\n",
        "model = RandomForestRegressor(n_estimators=100, random_state=42)\n",
        "model.fit(X_train, y_train)\n",
        "predictions = model.predict(X_test)\n",
        "\n",
        "mse = mean_squared_error(y_test, predictions)\n",
        "print(\"Mean Squared Error:\", mse)"
      ]
    },
    {
      "cell_type": "code",
      "source": [
        "y_train_binary = (y_train.diff() > 0).astype(int)\n",
        "y_test_binary = (y_test.diff() > 0).astype(int)\n",
        "\n",
        "classifier = RandomForestClassifier(n_estimators=100, random_state=42)\n",
        "classifier.fit(X_train, y_train_binary)\n",
        "\n",
        "y_pred_binary = classifier.predict(X_test)\n",
        "\n",
        "report = classification_report(y_test_binary, y_pred_binary)\n",
        "print(\"Classification Report:\")\n",
        "print(report)"
      ],
      "metadata": {
        "id": "r_XiLZX6TTIK"
      },
      "execution_count": null,
      "outputs": []
    },
    {
      "cell_type": "code",
      "source": [
        "import nltk\n",
        "from nltk.sentiment.vader import SentimentIntensityAnalyzer\n",
        "\n",
        "nltk.download('vader_lexicon')\n",
        "sia = SentimentIntensityAnalyzer()\n",
        "text = \"AAPL reported better-than-expected earnings, driving the stock price up.\"\n",
        "\n",
        "sentiment = sia.polarity_scores(text)\n",
        "print(\"Sentiment Scores:\", sentiment)"
      ],
      "metadata": {
        "id": "y2qVhGm_AJNe"
      },
      "execution_count": null,
      "outputs": []
    },
    {
      "cell_type": "code",
      "source": [
        "plt.figure(figsize=(12, 6))\n",
        "plt.plot(data['Date'], data['Close'], label='Close Price', color='blue')\n",
        "plt.title('AAPL Stock Price Trends')\n",
        "plt.xlabel('Date')\n",
        "plt.ylabel('Price (USD)')\n",
        "plt.legend()\n",
        "plt.show()"
      ],
      "metadata": {
        "id": "r5VFwWNN_smV"
      },
      "execution_count": null,
      "outputs": []
    },
    {
      "cell_type": "code",
      "source": [
        "feature_importance = pd.Series(model.feature_importances_, index=X.columns)\n",
        "feature_importance.sort_values(ascending=False, inplace=True)\n",
        "\n",
        "plt.figure(figsize=(8, 6))\n",
        "sns.barplot(x=feature_importance, y=feature_importance.index)\n",
        "plt.title('Feature Importance')\n",
        "plt.xlabel('Importance')\n",
        "plt.ylabel('Feature')\n",
        "plt.show()"
      ],
      "metadata": {
        "id": "lx9encHM_vWU"
      },
      "execution_count": null,
      "outputs": []
    },
    {
      "cell_type": "code",
      "source": [
        "data['Daily Return'] = data['Close'].pct_change() * 100\n",
        "\n",
        "plt.figure(figsize=(12, 6))\n",
        "plt.plot(data['Date'], data['Daily Return'], label='Daily Returns', color='green')\n",
        "plt.title('AAPL Daily Returns')\n",
        "plt.xlabel('Date')\n",
        "plt.ylabel('Daily Return (%)')\n",
        "plt.legend()\n",
        "plt.show()"
      ],
      "metadata": {
        "id": "nhPKC7X8_y-1"
      },
      "execution_count": null,
      "outputs": []
    },
    {
      "cell_type": "code",
      "source": [
        "plt.figure(figsize=(8, 6))\n",
        "sns.histplot(data['Daily Return'].dropna(), bins=50, color='purple', kde=True)\n",
        "plt.title('Distribution of Daily Returns')\n",
        "plt.xlabel('Daily Return (%)')\n",
        "plt.ylabel('Frequency')\n",
        "plt.show()"
      ],
      "metadata": {
        "id": "KLCZAQgw_1oc"
      },
      "execution_count": null,
      "outputs": []
    },
    {
      "cell_type": "code",
      "source": [
        "corr_matrix = data[['Open', 'High', 'Low', 'Close', 'Volume', 'Daily Return']].corr()\n",
        "plt.figure(figsize=(10, 8))\n",
        "sns.heatmap(corr_matrix, annot=True, cmap='coolwarm', fmt=\".2f\")\n",
        "plt.title('Correlation Matrix')\n",
        "plt.show()"
      ],
      "metadata": {
        "id": "VsKNUwd9_JTk"
      },
      "execution_count": null,
      "outputs": []
    }
  ]
}